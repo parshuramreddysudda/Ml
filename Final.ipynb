{
 "cells": [
  {
   "cell_type": "code",
   "execution_count": 1,
   "id": "a1858188",
   "metadata": {},
   "outputs": [
    {
     "name": "stderr",
     "output_type": "stream",
     "text": [
      "2023-04-22 20:43:20.573241: I tensorflow/core/platform/cpu_feature_guard.cc:182] This TensorFlow binary is optimized to use available CPU instructions in performance-critical operations.\n",
      "To enable the following instructions: AVX2 FMA, in other operations, rebuild TensorFlow with the appropriate compiler flags.\n"
     ]
    }
   ],
   "source": [
    "import os \n",
    "import pprint\n",
    "import pickle   \n",
    "import functools\n",
    " \n",
    "import numpy as np\n",
    "import pandas as pd\n",
    "import tensorflow as tf     # neural net library\n",
    "import seaborn as sns\n",
    "import matplotlib.pyplot as plt\n",
    "\n",
    "from tqdm import tqdm       # progress bar for for-loops\n",
    "\n",
    "sns.set_theme()"
   ]
  },
  {
   "cell_type": "code",
   "execution_count": 7,
   "id": "8e735605",
   "metadata": {},
   "outputs": [],
   "source": [
    "# Importing the data\n",
    "\n",
    "X=pd.read_csv('X_train_J01Z4CN.csv') \n",
    "y=pd.read_csv('y_train_OXxrJt1.csv')\n",
    "y_submission = pd.read_csv(\"y_random_MhJDhKK.csv\")\n",
    "\n",
    "# Since we don't need Id for training we can drop it\n",
    "X_train_id=X_csv.drop(columns=\"id_annonce\")\n",
    "Y_train_id=y_csv.drop(columns=\"id_annonce\")\n",
    "\n",
    "# Lets Import the Test data of X\n",
    "X_test=pd.read_csv('X_test_BEhvxAN.csv')\n",
    "\n",
    "# X_test_id=X_test_csv.drop(columns=\"id_annonce\")\n"
   ]
  },
  {
   "cell_type": "code",
   "execution_count": 9,
   "id": "44964ee3",
   "metadata": {},
   "outputs": [],
   "source": [
    "# identifiant et variable d'intérêt\n",
    "id_var = \"id_annonce\"\n",
    "target_var = \"price\"\n",
    "metrics = dict()\n",
    "\n",
    "# constantes utiles\n",
    "BATCH_SIZE = 32 # nombre d'exemples à prendre à la fois\n",
    "MAX_IMGS = 6\n",
    "VALID_SIZE =.2\n",
    "IMG_HEIGHT, IMG_WIDTH, IMG_CHANNELS = 32, 32, 3\n",
    "IMG_SHAPE = (IMG_HEIGHT, IMG_WIDTH, IMG_CHANNELS)\n",
    "INPUT_SHAPE = (MAX_IMGS, IMG_HEIGHT, IMG_WIDTH, IMG_CHANNELS)"
   ]
  }
 ],
 "metadata": {
  "kernelspec": {
   "display_name": "Python 3 (ipykernel)",
   "language": "python",
   "name": "python3"
  },
  "language_info": {
   "codemirror_mode": {
    "name": "ipython",
    "version": 3
   },
   "file_extension": ".py",
   "mimetype": "text/x-python",
   "name": "python",
   "nbconvert_exporter": "python",
   "pygments_lexer": "ipython3",
   "version": "3.9.6"
  }
 },
 "nbformat": 4,
 "nbformat_minor": 5
}
