{
 "cells": [
  {
   "cell_type": "code",
   "execution_count": 31,
   "metadata": {},
   "outputs": [
    {
     "name": "stdout",
     "output_type": "stream",
     "text": [
      "\u001b[31mERROR: Could not find a version that satisfies the requirement catboost (from versions: none)\u001b[0m\u001b[31m\n",
      "\u001b[0m\u001b[31mERROR: No matching distribution found for catboost\u001b[0m\u001b[31m\n",
      "\u001b[0m"
     ]
    }
   ],
   "source": [
    "!python3 -m pip install -r requirements.txt\n",
    "\n"
   ]
  },
  {
   "cell_type": "code",
   "execution_count": 1,
   "metadata": {},
   "outputs": [
    {
     "name": "stderr",
     "output_type": "stream",
     "text": [
      "/Users/ram/.pyenv/versions/3.9.6/envs/myenv/lib/python3.9/site-packages/fuzzywuzzy/fuzz.py:11: UserWarning: Using slow pure-python SequenceMatcher. Install python-Levenshtein to remove this warning\n",
      "  warnings.warn('Using slow pure-python SequenceMatcher. Install python-Levenshtein to remove this warning')\n"
     ]
    },
    {
     "ename": "FileNotFoundError",
     "evalue": "[Errno 2] No such file or directory: 'data/fr.csv'",
     "output_type": "error",
     "traceback": [
      "\u001b[0;31m---------------------------------------------------------------------------\u001b[0m",
      "\u001b[0;31mFileNotFoundError\u001b[0m                         Traceback (most recent call last)",
      "Cell \u001b[0;32mIn[1], line 1\u001b[0m\n\u001b[0;32m----> 1\u001b[0m \u001b[38;5;28;01mfrom\u001b[39;00m \u001b[38;5;21;01mtools\u001b[39;00m\u001b[38;5;21;01m.\u001b[39;00m\u001b[38;5;21;01mpreprocess\u001b[39;00m \u001b[38;5;28;01mimport\u001b[39;00m \u001b[38;5;241m*\u001b[39m\n\u001b[1;32m      2\u001b[0m \u001b[38;5;28;01mfrom\u001b[39;00m \u001b[38;5;21;01msklearn\u001b[39;00m\u001b[38;5;21;01m.\u001b[39;00m\u001b[38;5;21;01mneighbors\u001b[39;00m \u001b[38;5;28;01mimport\u001b[39;00m \u001b[38;5;241m*\u001b[39m\n\u001b[1;32m      3\u001b[0m \u001b[38;5;28;01mfrom\u001b[39;00m \u001b[38;5;21;01msklearn\u001b[39;00m\u001b[38;5;21;01m.\u001b[39;00m\u001b[38;5;21;01mensemble\u001b[39;00m \u001b[38;5;28;01mimport\u001b[39;00m \u001b[38;5;241m*\u001b[39m\n",
      "File \u001b[0;32m~/Documents/GitHub/real-estate-price-prediction/tools/preprocess.py:43\u001b[0m\n\u001b[1;32m     39\u001b[0m     result\u001b[38;5;241m=\u001b[39munidecode(row\u001b[38;5;241m.\u001b[39mcity\u001b[38;5;241m.\u001b[39mlower())\n\u001b[1;32m     40\u001b[0m     \u001b[38;5;28;01mreturn\u001b[39;00m result\n\u001b[0;32m---> 43\u001b[0m fr\u001b[38;5;241m=\u001b[39m\u001b[43mpd\u001b[49m\u001b[38;5;241;43m.\u001b[39;49m\u001b[43mread_csv\u001b[49m\u001b[43m(\u001b[49m\u001b[38;5;124;43m'\u001b[39;49m\u001b[38;5;124;43mdata/fr.csv\u001b[39;49m\u001b[38;5;124;43m'\u001b[39;49m\u001b[43m)\u001b[49m \n\u001b[1;32m     44\u001b[0m fr[\u001b[38;5;124m'\u001b[39m\u001b[38;5;124mcity\u001b[39m\u001b[38;5;124m'\u001b[39m] \u001b[38;5;241m=\u001b[39m fr\u001b[38;5;241m.\u001b[39mapply(standards,axis\u001b[38;5;241m=\u001b[39m\u001b[38;5;241m1\u001b[39m)\n\u001b[1;32m     46\u001b[0m fr2 \u001b[38;5;241m=\u001b[39m pd\u001b[38;5;241m.\u001b[39mread_excel(\u001b[38;5;124m\"\u001b[39m\u001b[38;5;124mdata/Niveau_de_vie_2013_a_la_commune-Global_Map_Solution.xlsx\u001b[39m\u001b[38;5;124m\"\u001b[39m)\n",
      "File \u001b[0;32m~/.pyenv/versions/3.9.6/envs/myenv/lib/python3.9/site-packages/pandas/util/_decorators.py:211\u001b[0m, in \u001b[0;36mdeprecate_kwarg.<locals>._deprecate_kwarg.<locals>.wrapper\u001b[0;34m(*args, **kwargs)\u001b[0m\n\u001b[1;32m    209\u001b[0m     \u001b[38;5;28;01melse\u001b[39;00m:\n\u001b[1;32m    210\u001b[0m         kwargs[new_arg_name] \u001b[38;5;241m=\u001b[39m new_arg_value\n\u001b[0;32m--> 211\u001b[0m \u001b[38;5;28;01mreturn\u001b[39;00m \u001b[43mfunc\u001b[49m\u001b[43m(\u001b[49m\u001b[38;5;241;43m*\u001b[39;49m\u001b[43margs\u001b[49m\u001b[43m,\u001b[49m\u001b[43m \u001b[49m\u001b[38;5;241;43m*\u001b[39;49m\u001b[38;5;241;43m*\u001b[39;49m\u001b[43mkwargs\u001b[49m\u001b[43m)\u001b[49m\n",
      "File \u001b[0;32m~/.pyenv/versions/3.9.6/envs/myenv/lib/python3.9/site-packages/pandas/util/_decorators.py:331\u001b[0m, in \u001b[0;36mdeprecate_nonkeyword_arguments.<locals>.decorate.<locals>.wrapper\u001b[0;34m(*args, **kwargs)\u001b[0m\n\u001b[1;32m    325\u001b[0m \u001b[38;5;28;01mif\u001b[39;00m \u001b[38;5;28mlen\u001b[39m(args) \u001b[38;5;241m>\u001b[39m num_allow_args:\n\u001b[1;32m    326\u001b[0m     warnings\u001b[38;5;241m.\u001b[39mwarn(\n\u001b[1;32m    327\u001b[0m         msg\u001b[38;5;241m.\u001b[39mformat(arguments\u001b[38;5;241m=\u001b[39m_format_argument_list(allow_args)),\n\u001b[1;32m    328\u001b[0m         \u001b[38;5;167;01mFutureWarning\u001b[39;00m,\n\u001b[1;32m    329\u001b[0m         stacklevel\u001b[38;5;241m=\u001b[39mfind_stack_level(),\n\u001b[1;32m    330\u001b[0m     )\n\u001b[0;32m--> 331\u001b[0m \u001b[38;5;28;01mreturn\u001b[39;00m \u001b[43mfunc\u001b[49m\u001b[43m(\u001b[49m\u001b[38;5;241;43m*\u001b[39;49m\u001b[43margs\u001b[49m\u001b[43m,\u001b[49m\u001b[43m \u001b[49m\u001b[38;5;241;43m*\u001b[39;49m\u001b[38;5;241;43m*\u001b[39;49m\u001b[43mkwargs\u001b[49m\u001b[43m)\u001b[49m\n",
      "File \u001b[0;32m~/.pyenv/versions/3.9.6/envs/myenv/lib/python3.9/site-packages/pandas/io/parsers/readers.py:950\u001b[0m, in \u001b[0;36mread_csv\u001b[0;34m(filepath_or_buffer, sep, delimiter, header, names, index_col, usecols, squeeze, prefix, mangle_dupe_cols, dtype, engine, converters, true_values, false_values, skipinitialspace, skiprows, skipfooter, nrows, na_values, keep_default_na, na_filter, verbose, skip_blank_lines, parse_dates, infer_datetime_format, keep_date_col, date_parser, dayfirst, cache_dates, iterator, chunksize, compression, thousands, decimal, lineterminator, quotechar, quoting, doublequote, escapechar, comment, encoding, encoding_errors, dialect, error_bad_lines, warn_bad_lines, on_bad_lines, delim_whitespace, low_memory, memory_map, float_precision, storage_options)\u001b[0m\n\u001b[1;32m    935\u001b[0m kwds_defaults \u001b[38;5;241m=\u001b[39m _refine_defaults_read(\n\u001b[1;32m    936\u001b[0m     dialect,\n\u001b[1;32m    937\u001b[0m     delimiter,\n\u001b[0;32m   (...)\u001b[0m\n\u001b[1;32m    946\u001b[0m     defaults\u001b[38;5;241m=\u001b[39m{\u001b[38;5;124m\"\u001b[39m\u001b[38;5;124mdelimiter\u001b[39m\u001b[38;5;124m\"\u001b[39m: \u001b[38;5;124m\"\u001b[39m\u001b[38;5;124m,\u001b[39m\u001b[38;5;124m\"\u001b[39m},\n\u001b[1;32m    947\u001b[0m )\n\u001b[1;32m    948\u001b[0m kwds\u001b[38;5;241m.\u001b[39mupdate(kwds_defaults)\n\u001b[0;32m--> 950\u001b[0m \u001b[38;5;28;01mreturn\u001b[39;00m \u001b[43m_read\u001b[49m\u001b[43m(\u001b[49m\u001b[43mfilepath_or_buffer\u001b[49m\u001b[43m,\u001b[49m\u001b[43m \u001b[49m\u001b[43mkwds\u001b[49m\u001b[43m)\u001b[49m\n",
      "File \u001b[0;32m~/.pyenv/versions/3.9.6/envs/myenv/lib/python3.9/site-packages/pandas/io/parsers/readers.py:605\u001b[0m, in \u001b[0;36m_read\u001b[0;34m(filepath_or_buffer, kwds)\u001b[0m\n\u001b[1;32m    602\u001b[0m _validate_names(kwds\u001b[38;5;241m.\u001b[39mget(\u001b[38;5;124m\"\u001b[39m\u001b[38;5;124mnames\u001b[39m\u001b[38;5;124m\"\u001b[39m, \u001b[38;5;28;01mNone\u001b[39;00m))\n\u001b[1;32m    604\u001b[0m \u001b[38;5;66;03m# Create the parser.\u001b[39;00m\n\u001b[0;32m--> 605\u001b[0m parser \u001b[38;5;241m=\u001b[39m \u001b[43mTextFileReader\u001b[49m\u001b[43m(\u001b[49m\u001b[43mfilepath_or_buffer\u001b[49m\u001b[43m,\u001b[49m\u001b[43m \u001b[49m\u001b[38;5;241;43m*\u001b[39;49m\u001b[38;5;241;43m*\u001b[39;49m\u001b[43mkwds\u001b[49m\u001b[43m)\u001b[49m\n\u001b[1;32m    607\u001b[0m \u001b[38;5;28;01mif\u001b[39;00m chunksize \u001b[38;5;129;01mor\u001b[39;00m iterator:\n\u001b[1;32m    608\u001b[0m     \u001b[38;5;28;01mreturn\u001b[39;00m parser\n",
      "File \u001b[0;32m~/.pyenv/versions/3.9.6/envs/myenv/lib/python3.9/site-packages/pandas/io/parsers/readers.py:1442\u001b[0m, in \u001b[0;36mTextFileReader.__init__\u001b[0;34m(self, f, engine, **kwds)\u001b[0m\n\u001b[1;32m   1439\u001b[0m     \u001b[38;5;28mself\u001b[39m\u001b[38;5;241m.\u001b[39moptions[\u001b[38;5;124m\"\u001b[39m\u001b[38;5;124mhas_index_names\u001b[39m\u001b[38;5;124m\"\u001b[39m] \u001b[38;5;241m=\u001b[39m kwds[\u001b[38;5;124m\"\u001b[39m\u001b[38;5;124mhas_index_names\u001b[39m\u001b[38;5;124m\"\u001b[39m]\n\u001b[1;32m   1441\u001b[0m \u001b[38;5;28mself\u001b[39m\u001b[38;5;241m.\u001b[39mhandles: IOHandles \u001b[38;5;241m|\u001b[39m \u001b[38;5;28;01mNone\u001b[39;00m \u001b[38;5;241m=\u001b[39m \u001b[38;5;28;01mNone\u001b[39;00m\n\u001b[0;32m-> 1442\u001b[0m \u001b[38;5;28mself\u001b[39m\u001b[38;5;241m.\u001b[39m_engine \u001b[38;5;241m=\u001b[39m \u001b[38;5;28;43mself\u001b[39;49m\u001b[38;5;241;43m.\u001b[39;49m\u001b[43m_make_engine\u001b[49m\u001b[43m(\u001b[49m\u001b[43mf\u001b[49m\u001b[43m,\u001b[49m\u001b[43m \u001b[49m\u001b[38;5;28;43mself\u001b[39;49m\u001b[38;5;241;43m.\u001b[39;49m\u001b[43mengine\u001b[49m\u001b[43m)\u001b[49m\n",
      "File \u001b[0;32m~/.pyenv/versions/3.9.6/envs/myenv/lib/python3.9/site-packages/pandas/io/parsers/readers.py:1735\u001b[0m, in \u001b[0;36mTextFileReader._make_engine\u001b[0;34m(self, f, engine)\u001b[0m\n\u001b[1;32m   1733\u001b[0m     \u001b[38;5;28;01mif\u001b[39;00m \u001b[38;5;124m\"\u001b[39m\u001b[38;5;124mb\u001b[39m\u001b[38;5;124m\"\u001b[39m \u001b[38;5;129;01mnot\u001b[39;00m \u001b[38;5;129;01min\u001b[39;00m mode:\n\u001b[1;32m   1734\u001b[0m         mode \u001b[38;5;241m+\u001b[39m\u001b[38;5;241m=\u001b[39m \u001b[38;5;124m\"\u001b[39m\u001b[38;5;124mb\u001b[39m\u001b[38;5;124m\"\u001b[39m\n\u001b[0;32m-> 1735\u001b[0m \u001b[38;5;28mself\u001b[39m\u001b[38;5;241m.\u001b[39mhandles \u001b[38;5;241m=\u001b[39m \u001b[43mget_handle\u001b[49m\u001b[43m(\u001b[49m\n\u001b[1;32m   1736\u001b[0m \u001b[43m    \u001b[49m\u001b[43mf\u001b[49m\u001b[43m,\u001b[49m\n\u001b[1;32m   1737\u001b[0m \u001b[43m    \u001b[49m\u001b[43mmode\u001b[49m\u001b[43m,\u001b[49m\n\u001b[1;32m   1738\u001b[0m \u001b[43m    \u001b[49m\u001b[43mencoding\u001b[49m\u001b[38;5;241;43m=\u001b[39;49m\u001b[38;5;28;43mself\u001b[39;49m\u001b[38;5;241;43m.\u001b[39;49m\u001b[43moptions\u001b[49m\u001b[38;5;241;43m.\u001b[39;49m\u001b[43mget\u001b[49m\u001b[43m(\u001b[49m\u001b[38;5;124;43m\"\u001b[39;49m\u001b[38;5;124;43mencoding\u001b[39;49m\u001b[38;5;124;43m\"\u001b[39;49m\u001b[43m,\u001b[49m\u001b[43m \u001b[49m\u001b[38;5;28;43;01mNone\u001b[39;49;00m\u001b[43m)\u001b[49m\u001b[43m,\u001b[49m\n\u001b[1;32m   1739\u001b[0m \u001b[43m    \u001b[49m\u001b[43mcompression\u001b[49m\u001b[38;5;241;43m=\u001b[39;49m\u001b[38;5;28;43mself\u001b[39;49m\u001b[38;5;241;43m.\u001b[39;49m\u001b[43moptions\u001b[49m\u001b[38;5;241;43m.\u001b[39;49m\u001b[43mget\u001b[49m\u001b[43m(\u001b[49m\u001b[38;5;124;43m\"\u001b[39;49m\u001b[38;5;124;43mcompression\u001b[39;49m\u001b[38;5;124;43m\"\u001b[39;49m\u001b[43m,\u001b[49m\u001b[43m \u001b[49m\u001b[38;5;28;43;01mNone\u001b[39;49;00m\u001b[43m)\u001b[49m\u001b[43m,\u001b[49m\n\u001b[1;32m   1740\u001b[0m \u001b[43m    \u001b[49m\u001b[43mmemory_map\u001b[49m\u001b[38;5;241;43m=\u001b[39;49m\u001b[38;5;28;43mself\u001b[39;49m\u001b[38;5;241;43m.\u001b[39;49m\u001b[43moptions\u001b[49m\u001b[38;5;241;43m.\u001b[39;49m\u001b[43mget\u001b[49m\u001b[43m(\u001b[49m\u001b[38;5;124;43m\"\u001b[39;49m\u001b[38;5;124;43mmemory_map\u001b[39;49m\u001b[38;5;124;43m\"\u001b[39;49m\u001b[43m,\u001b[49m\u001b[43m \u001b[49m\u001b[38;5;28;43;01mFalse\u001b[39;49;00m\u001b[43m)\u001b[49m\u001b[43m,\u001b[49m\n\u001b[1;32m   1741\u001b[0m \u001b[43m    \u001b[49m\u001b[43mis_text\u001b[49m\u001b[38;5;241;43m=\u001b[39;49m\u001b[43mis_text\u001b[49m\u001b[43m,\u001b[49m\n\u001b[1;32m   1742\u001b[0m \u001b[43m    \u001b[49m\u001b[43merrors\u001b[49m\u001b[38;5;241;43m=\u001b[39;49m\u001b[38;5;28;43mself\u001b[39;49m\u001b[38;5;241;43m.\u001b[39;49m\u001b[43moptions\u001b[49m\u001b[38;5;241;43m.\u001b[39;49m\u001b[43mget\u001b[49m\u001b[43m(\u001b[49m\u001b[38;5;124;43m\"\u001b[39;49m\u001b[38;5;124;43mencoding_errors\u001b[39;49m\u001b[38;5;124;43m\"\u001b[39;49m\u001b[43m,\u001b[49m\u001b[43m \u001b[49m\u001b[38;5;124;43m\"\u001b[39;49m\u001b[38;5;124;43mstrict\u001b[39;49m\u001b[38;5;124;43m\"\u001b[39;49m\u001b[43m)\u001b[49m\u001b[43m,\u001b[49m\n\u001b[1;32m   1743\u001b[0m \u001b[43m    \u001b[49m\u001b[43mstorage_options\u001b[49m\u001b[38;5;241;43m=\u001b[39;49m\u001b[38;5;28;43mself\u001b[39;49m\u001b[38;5;241;43m.\u001b[39;49m\u001b[43moptions\u001b[49m\u001b[38;5;241;43m.\u001b[39;49m\u001b[43mget\u001b[49m\u001b[43m(\u001b[49m\u001b[38;5;124;43m\"\u001b[39;49m\u001b[38;5;124;43mstorage_options\u001b[39;49m\u001b[38;5;124;43m\"\u001b[39;49m\u001b[43m,\u001b[49m\u001b[43m \u001b[49m\u001b[38;5;28;43;01mNone\u001b[39;49;00m\u001b[43m)\u001b[49m\u001b[43m,\u001b[49m\n\u001b[1;32m   1744\u001b[0m \u001b[43m\u001b[49m\u001b[43m)\u001b[49m\n\u001b[1;32m   1745\u001b[0m \u001b[38;5;28;01massert\u001b[39;00m \u001b[38;5;28mself\u001b[39m\u001b[38;5;241m.\u001b[39mhandles \u001b[38;5;129;01mis\u001b[39;00m \u001b[38;5;129;01mnot\u001b[39;00m \u001b[38;5;28;01mNone\u001b[39;00m\n\u001b[1;32m   1746\u001b[0m f \u001b[38;5;241m=\u001b[39m \u001b[38;5;28mself\u001b[39m\u001b[38;5;241m.\u001b[39mhandles\u001b[38;5;241m.\u001b[39mhandle\n",
      "File \u001b[0;32m~/.pyenv/versions/3.9.6/envs/myenv/lib/python3.9/site-packages/pandas/io/common.py:856\u001b[0m, in \u001b[0;36mget_handle\u001b[0;34m(path_or_buf, mode, encoding, compression, memory_map, is_text, errors, storage_options)\u001b[0m\n\u001b[1;32m    851\u001b[0m \u001b[38;5;28;01melif\u001b[39;00m \u001b[38;5;28misinstance\u001b[39m(handle, \u001b[38;5;28mstr\u001b[39m):\n\u001b[1;32m    852\u001b[0m     \u001b[38;5;66;03m# Check whether the filename is to be opened in binary mode.\u001b[39;00m\n\u001b[1;32m    853\u001b[0m     \u001b[38;5;66;03m# Binary mode does not support 'encoding' and 'newline'.\u001b[39;00m\n\u001b[1;32m    854\u001b[0m     \u001b[38;5;28;01mif\u001b[39;00m ioargs\u001b[38;5;241m.\u001b[39mencoding \u001b[38;5;129;01mand\u001b[39;00m \u001b[38;5;124m\"\u001b[39m\u001b[38;5;124mb\u001b[39m\u001b[38;5;124m\"\u001b[39m \u001b[38;5;129;01mnot\u001b[39;00m \u001b[38;5;129;01min\u001b[39;00m ioargs\u001b[38;5;241m.\u001b[39mmode:\n\u001b[1;32m    855\u001b[0m         \u001b[38;5;66;03m# Encoding\u001b[39;00m\n\u001b[0;32m--> 856\u001b[0m         handle \u001b[38;5;241m=\u001b[39m \u001b[38;5;28;43mopen\u001b[39;49m\u001b[43m(\u001b[49m\n\u001b[1;32m    857\u001b[0m \u001b[43m            \u001b[49m\u001b[43mhandle\u001b[49m\u001b[43m,\u001b[49m\n\u001b[1;32m    858\u001b[0m \u001b[43m            \u001b[49m\u001b[43mioargs\u001b[49m\u001b[38;5;241;43m.\u001b[39;49m\u001b[43mmode\u001b[49m\u001b[43m,\u001b[49m\n\u001b[1;32m    859\u001b[0m \u001b[43m            \u001b[49m\u001b[43mencoding\u001b[49m\u001b[38;5;241;43m=\u001b[39;49m\u001b[43mioargs\u001b[49m\u001b[38;5;241;43m.\u001b[39;49m\u001b[43mencoding\u001b[49m\u001b[43m,\u001b[49m\n\u001b[1;32m    860\u001b[0m \u001b[43m            \u001b[49m\u001b[43merrors\u001b[49m\u001b[38;5;241;43m=\u001b[39;49m\u001b[43merrors\u001b[49m\u001b[43m,\u001b[49m\n\u001b[1;32m    861\u001b[0m \u001b[43m            \u001b[49m\u001b[43mnewline\u001b[49m\u001b[38;5;241;43m=\u001b[39;49m\u001b[38;5;124;43m\"\u001b[39;49m\u001b[38;5;124;43m\"\u001b[39;49m\u001b[43m,\u001b[49m\n\u001b[1;32m    862\u001b[0m \u001b[43m        \u001b[49m\u001b[43m)\u001b[49m\n\u001b[1;32m    863\u001b[0m     \u001b[38;5;28;01melse\u001b[39;00m:\n\u001b[1;32m    864\u001b[0m         \u001b[38;5;66;03m# Binary mode\u001b[39;00m\n\u001b[1;32m    865\u001b[0m         handle \u001b[38;5;241m=\u001b[39m \u001b[38;5;28mopen\u001b[39m(handle, ioargs\u001b[38;5;241m.\u001b[39mmode)\n",
      "\u001b[0;31mFileNotFoundError\u001b[0m: [Errno 2] No such file or directory: 'data/fr.csv'"
     ]
    }
   ],
   "source": [
    "from tools.preprocess import *\n",
    "from sklearn.neighbors import *\n",
    "from sklearn.ensemble import *\n",
    "from catboost import CatBoostRegressor\n",
    "from xgboost import XGBRegressor, plot_importance\n",
    "import xgboost as xgb\n",
    "from lightgbm import LGBMRegressor\n",
    "from sklearn.model_selection import KFold, cross_val_score\n",
    "from tools.selector import *\n",
    "pd.options.display.max_rows=400\n",
    "pd.options.display.max_columns=400"
   ]
  },
  {
   "cell_type": "code",
   "execution_count": null,
   "metadata": {},
   "outputs": [],
   "source": [
    "preprocessing_parameters = {\n",
    "    'drop_columns':[\"energy_performance_category\",\"ghg_category\"],\n",
    "    'frequency_encoding':['city'],\n",
    "    'quantile_encoding':[],\n",
    "    'label_encoding':[],\n",
    "    'target_encoding':[],\n",
    "    'constant_imputation_floor':False,\n",
    "    'constant_land_size':False,\n",
    "    'constant_energy_performance_value':True,\n",
    "    'constant_ghg_value':True,\n",
    "    'constant_imputation_bedrooms':False,\n",
    "    'constant_imputation_exposition':False,\n",
    "    'iter_imputation':False,\n",
    "    'mean_imputation':False,\n",
    "    'mini_imputation':False,\n",
    "    'add_polar_coordinates':True,\n",
    "    'add_polar_rotation':True,\n",
    "    'add_geo_pca':True,\n",
    "    'add_geopopulation':False,\n",
    "    'add_geopopulation_2':False,\n",
    "    'add_distance_to_city_center':False, #only True when add_geopopulation is true\n",
    "    'add_geo':True,\n",
    "    'geodata':[\"index\",\"num_train_station\",\"num_night_club\", \"num_gas_station\",\"user_ratings_total\"],#  \n",
    "    'add_classification_quality':True,\n",
    "    'classification_threshold':0,\n",
    "    'images_features':[],\n",
    "    'feature_transformation':False,\n",
    "    'features_interactions':False,\n",
    "    'hot_encoding':True,\n",
    "    'standard_scaling':False,\n",
    "    'robust_scaling':True,\n",
    "    'power_scaling':False,\n",
    "    'target_transformation':True,\n",
    "}"
   ]
  },
  {
   "cell_type": "code",
   "execution_count": 2,
   "metadata": {},
   "outputs": [
    {
     "ename": "NameError",
     "evalue": "name 'load_data' is not defined",
     "output_type": "error",
     "traceback": [
      "\u001b[0;31m---------------------------------------------------------------------------\u001b[0m",
      "\u001b[0;31mNameError\u001b[0m                                 Traceback (most recent call last)",
      "Cell \u001b[0;32mIn[2], line 1\u001b[0m\n\u001b[0;32m----> 1\u001b[0m X_train_0, Y_train_0, X_test_0, X_test_ids \u001b[38;5;241m=\u001b[39m \u001b[43mload_data\u001b[49m(\u001b[38;5;124m'\u001b[39m\u001b[38;5;124mdata/\u001b[39m\u001b[38;5;124m'\u001b[39m)\n\u001b[1;32m      2\u001b[0m xgb_params, lgb_params, cat_params\u001b[38;5;241m=\u001b[39mload_hyperparameters()\n",
      "\u001b[0;31mNameError\u001b[0m: name 'load_data' is not defined"
     ]
    }
   ],
   "source": [
    "X_train_0, Y_train_0, X_test_0, X_test_ids = load_data('data/')\n",
    "xgb_params, lgb_params, cat_params=load_hyperparameters()"
   ]
  },
  {
   "cell_type": "code",
   "execution_count": 5,
   "metadata": {
    "scrolled": false
   },
   "outputs": [
    {
     "ename": "ValueError",
     "evalue": "unsupported pickle protocol: 5",
     "output_type": "error",
     "traceback": [
      "\u001b[0;31m---------------------------------------------------------------------------\u001b[0m",
      "\u001b[0;31mValueError\u001b[0m                                Traceback (most recent call last)",
      "\u001b[0;32m/tmp/ipykernel_62172/540930594.py\u001b[0m in \u001b[0;36m<module>\u001b[0;34m\u001b[0m\n\u001b[0;32m----> 1\u001b[0;31m \u001b[0mX_train_1\u001b[0m\u001b[0;34m,\u001b[0m\u001b[0mY_train_1\u001b[0m\u001b[0;34m,\u001b[0m \u001b[0mX_test_1\u001b[0m \u001b[0;34m=\u001b[0m \u001b[0mpreprocess\u001b[0m\u001b[0;34m(\u001b[0m\u001b[0mX_train_0\u001b[0m\u001b[0;34m,\u001b[0m \u001b[0mY_train_0\u001b[0m\u001b[0;34m,\u001b[0m \u001b[0mX_test_0\u001b[0m\u001b[0;34m,\u001b[0m\u001b[0mpreprocessing_parameters\u001b[0m\u001b[0;34m)\u001b[0m\u001b[0;34m\u001b[0m\u001b[0;34m\u001b[0m\u001b[0m\n\u001b[0m",
      "\u001b[0;32m/media/odeck/toshiba/projects/data-challenge-2022/tools/preprocess.py\u001b[0m in \u001b[0;36mpreprocess\u001b[0;34m(X_train_0, Y_train_0, X_test_0, parameters)\u001b[0m\n\u001b[1;32m    465\u001b[0m     \u001b[0;31m# Add geodata\u001b[0m\u001b[0;34m\u001b[0m\u001b[0;34m\u001b[0m\u001b[0;34m\u001b[0m\u001b[0m\n\u001b[1;32m    466\u001b[0m     \u001b[0;32mif\u001b[0m \u001b[0mparameters\u001b[0m\u001b[0;34m[\u001b[0m\u001b[0;34m\"add_geo\"\u001b[0m\u001b[0;34m]\u001b[0m\u001b[0;34m:\u001b[0m\u001b[0;34m\u001b[0m\u001b[0;34m\u001b[0m\u001b[0m\n\u001b[0;32m--> 467\u001b[0;31m         \u001b[0mdata\u001b[0m\u001b[0;34m=\u001b[0m\u001b[0madd_geo\u001b[0m\u001b[0;34m(\u001b[0m\u001b[0mdata\u001b[0m\u001b[0;34m,\u001b[0m \u001b[0mparameters\u001b[0m\u001b[0;34m[\u001b[0m\u001b[0;34m\"geodata\"\u001b[0m\u001b[0;34m]\u001b[0m\u001b[0;34m)\u001b[0m\u001b[0;34m\u001b[0m\u001b[0;34m\u001b[0m\u001b[0m\n\u001b[0m\u001b[1;32m    468\u001b[0m \u001b[0;34m\u001b[0m\u001b[0m\n\u001b[1;32m    469\u001b[0m \u001b[0;34m\u001b[0m\u001b[0m\n",
      "\u001b[0;32m/media/odeck/toshiba/projects/data-challenge-2022/tools/preprocess.py\u001b[0m in \u001b[0;36madd_geo\u001b[0;34m(data, places, filepath)\u001b[0m\n\u001b[1;32m    136\u001b[0m     \u001b[0mX_test_raw\u001b[0m\u001b[0;34m=\u001b[0m\u001b[0mpd\u001b[0m\u001b[0;34m.\u001b[0m\u001b[0mread_csv\u001b[0m\u001b[0;34m(\u001b[0m\u001b[0mfilepath\u001b[0m \u001b[0;34m+\u001b[0m \u001b[0;34m'X_test_BEhvxAN.csv'\u001b[0m\u001b[0;34m)\u001b[0m\u001b[0;34m\u001b[0m\u001b[0;34m\u001b[0m\u001b[0m\n\u001b[1;32m    137\u001b[0m \u001b[0;34m\u001b[0m\u001b[0m\n\u001b[0;32m--> 138\u001b[0;31m     \u001b[0mX_train_geo\u001b[0m\u001b[0;34m=\u001b[0m\u001b[0mpd\u001b[0m\u001b[0;34m.\u001b[0m\u001b[0mread_pickle\u001b[0m\u001b[0;34m(\u001b[0m\u001b[0mfilepath\u001b[0m\u001b[0;34m+\u001b[0m\u001b[0;34m\"geodata/X_train_geodata.pkl\"\u001b[0m\u001b[0;34m)\u001b[0m\u001b[0;34m\u001b[0m\u001b[0;34m\u001b[0m\u001b[0m\n\u001b[0m\u001b[1;32m    139\u001b[0m     \u001b[0mX_test_geo\u001b[0m\u001b[0;34m=\u001b[0m\u001b[0mpd\u001b[0m\u001b[0;34m.\u001b[0m\u001b[0mread_pickle\u001b[0m\u001b[0;34m(\u001b[0m\u001b[0mfilepath\u001b[0m\u001b[0;34m+\u001b[0m\u001b[0;34m\"geodata/X_test_geodata.pkl\"\u001b[0m\u001b[0;34m)\u001b[0m\u001b[0;34m\u001b[0m\u001b[0;34m\u001b[0m\u001b[0m\n\u001b[1;32m    140\u001b[0m \u001b[0;34m\u001b[0m\u001b[0m\n",
      "\u001b[0;32m~/miniconda3/envs/data-challenge/lib/python3.7/site-packages/pandas/io/pickle.py\u001b[0m in \u001b[0;36mread_pickle\u001b[0;34m(filepath_or_buffer, compression, storage_options)\u001b[0m\n\u001b[1;32m    215\u001b[0m                     \u001b[0;31m# RawIOBase, BufferedIOBase, TextIOBase, TextIOWrapper, mmap]\";\u001b[0m\u001b[0;34m\u001b[0m\u001b[0;34m\u001b[0m\u001b[0;34m\u001b[0m\u001b[0m\n\u001b[1;32m    216\u001b[0m                     \u001b[0;31m# expected \"IO[bytes]\"\u001b[0m\u001b[0;34m\u001b[0m\u001b[0;34m\u001b[0m\u001b[0;34m\u001b[0m\u001b[0m\n\u001b[0;32m--> 217\u001b[0;31m                     \u001b[0;32mreturn\u001b[0m \u001b[0mpickle\u001b[0m\u001b[0;34m.\u001b[0m\u001b[0mload\u001b[0m\u001b[0;34m(\u001b[0m\u001b[0mhandles\u001b[0m\u001b[0;34m.\u001b[0m\u001b[0mhandle\u001b[0m\u001b[0;34m)\u001b[0m  \u001b[0;31m# type: ignore[arg-type]\u001b[0m\u001b[0;34m\u001b[0m\u001b[0;34m\u001b[0m\u001b[0m\n\u001b[0m\u001b[1;32m    218\u001b[0m             \u001b[0;32mexcept\u001b[0m \u001b[0mexcs_to_catch\u001b[0m\u001b[0;34m:\u001b[0m\u001b[0;34m\u001b[0m\u001b[0;34m\u001b[0m\u001b[0m\n\u001b[1;32m    219\u001b[0m                 \u001b[0;31m# e.g.\u001b[0m\u001b[0;34m\u001b[0m\u001b[0;34m\u001b[0m\u001b[0;34m\u001b[0m\u001b[0m\n",
      "\u001b[0;31mValueError\u001b[0m: unsupported pickle protocol: 5"
     ]
    }
   ],
   "source": [
    "X_train_1,Y_train_1, X_test_1 = preprocess(X_train_0, Y_train_0, X_test_0,preprocessing_parameters)"
   ]
  },
  {
   "cell_type": "code",
   "execution_count": 7,
   "metadata": {},
   "outputs": [
    {
     "data": {
      "text/plain": [
       "property_type_terrain             -0.292496\n",
       "property_type_terrain à bâtir     -0.135557\n",
       "property_type_parking             -0.105659\n",
       "image_quality_sum_Bedroom         -0.104044\n",
       "image_quality_count_Bedroom       -0.088309\n",
       "num_night_club                    -0.074100\n",
       "property_type_viager              -0.063466\n",
       "image_quality_mean_Backyard       -0.061076\n",
       "property_type_divers              -0.060409\n",
       "image_quality_mean_Bedroom        -0.056274\n",
       "image_quality_sum_Backyard        -0.052199\n",
       "image_quality_count_Backyard      -0.037178\n",
       "ghg_value                         -0.033964\n",
       "num_train_station                 -0.021388\n",
       "exposition_Nord-Ouest             -0.019726\n",
       "image_quality_mean_Bathroom       -0.017071\n",
       "energy_performance_value          -0.012092\n",
       "property_type_chambre             -0.011059\n",
       "image_quality_mean_Frontyard      -0.006045\n",
       "upper_floors                      -0.004130\n",
       "property_type_ferme               -0.001397\n",
       "property_type_maison              -0.001264\n",
       "exposition_Nord                   -0.000027\n",
       "image_quality_count_Kitchen        0.001104\n",
       "image_quality_mean_LivingRoom      0.002362\n",
       "image_quality_sum_Bathroom         0.002492\n",
       "property_type_chalet               0.002726\n",
       "property_type_péniche              0.003347\n",
       "property_type_hôtel                0.004316\n",
       "image_quality_sum_Kitchen          0.005584\n",
       "property_type_gîte                 0.006035\n",
       "image_quality_count_Bathroom       0.008848\n",
       "image_quality_sum_Frontyard        0.012616\n",
       "exposition_Nord-Sud                0.013210\n",
       "exposition_Est                     0.013460\n",
       "image_quality_count_Frontyard      0.014604\n",
       "image_quality_mean_Kitchen         0.015234\n",
       "exposition_Ouest                   0.015457\n",
       "property_type_atelier              0.015708\n",
       "property_type_moulin               0.015860\n",
       "property_type_hôtel particulier    0.016022\n",
       "exposition_Sud-Nord                0.016967\n",
       "property_type_loft                 0.019508\n",
       "property_type_duplex               0.021546\n",
       "exposition_Ouest-Est               0.021833\n",
       "exposition_Nord-Est                0.022249\n",
       "property_type_manoir               0.023224\n",
       "size                               0.025279\n",
       "exposition_Est-Ouest               0.031463\n",
       "approximate_latitude               0.034518\n",
       "property_type_château              0.036936\n",
       "exposition_Sud-Est                 0.042143\n",
       "radius                             0.042728\n",
       "land_size                          0.048920\n",
       "last_floor                         0.049164\n",
       "geo_pca_x                          0.055253\n",
       "has_a_garage                       0.060769\n",
       "exposition_Sud                     0.068039\n",
       "has_air_conditioning               0.069276\n",
       "num_gas_station                    0.069435\n",
       "exposition_Sud-Ouest               0.074068\n",
       "image_quality_count_LivingRoom     0.076229\n",
       "image_quality_sum_LivingRoom       0.079711\n",
       "nb_boxes                           0.080740\n",
       "rot_30_x                           0.095062\n",
       "approximate_longitude              0.097298\n",
       "has_a_balcony                      0.097638\n",
       "property_type_villa                0.097648\n",
       "angle                              0.098110\n",
       "property_type_propriété            0.100034\n",
       "floor                              0.102415\n",
       "geo_pca_y                          0.103960\n",
       "rot_45_y                           0.113363\n",
       "rot_45_x                           0.113363\n",
       "rot_30_y                           0.117459\n",
       "has_a_cellar                       0.127679\n",
       "property_type_appartement          0.133012\n",
       "nb_parking_places                  0.133528\n",
       "postal_code                        0.146281\n",
       "user_ratings_total                 0.166342\n",
       "city                               0.200943\n",
       "nb_terraces                        0.213083\n",
       "nb_photos                          0.233767\n",
       "nb_bedrooms                        0.340635\n",
       "nb_rooms                           0.352336\n",
       "nb_bathrooms                       0.422107\n",
       "dtype: float64"
      ]
     },
     "execution_count": 7,
     "metadata": {},
     "output_type": "execute_result"
    }
   ],
   "source": [
    "X_train_1.corrwith(Y_train_1).sort_values()"
   ]
  },
  {
   "cell_type": "code",
   "execution_count": 8,
   "metadata": {},
   "outputs": [
    {
     "name": "stdout",
     "output_type": "stream",
     "text": [
      "[LightGBM] [Warning] lambda_l1 is set=3.035082410337794e-05, reg_alpha=0.0 will be ignored. Current value: lambda_l1=3.035082410337794e-05\n",
      "[LightGBM] [Warning] feature_fraction is set=0.7532144343509061, colsample_bytree=1.0 will be ignored. Current value: feature_fraction=0.7532144343509061\n",
      "[LightGBM] [Warning] bagging_freq is set=3, subsample_freq=0 will be ignored. Current value: bagging_freq=3\n",
      "[LightGBM] [Warning] lambda_l2 is set=2.7222837773047282e-08, reg_lambda=0.0 will be ignored. Current value: lambda_l2=2.7222837773047282e-08\n",
      "[LightGBM] [Warning] bagging_fraction is set=0.9735502443957263, subsample=1.0 will be ignored. Current value: bagging_fraction=0.9735502443957263\n",
      "[LightGBM] [Warning] lambda_l1 is set=3.035082410337794e-05, reg_alpha=0.0 will be ignored. Current value: lambda_l1=3.035082410337794e-05\n",
      "[LightGBM] [Warning] feature_fraction is set=0.7532144343509061, colsample_bytree=1.0 will be ignored. Current value: feature_fraction=0.7532144343509061\n",
      "[LightGBM] [Warning] bagging_freq is set=3, subsample_freq=0 will be ignored. Current value: bagging_freq=3\n",
      "[LightGBM] [Warning] lambda_l2 is set=2.7222837773047282e-08, reg_lambda=0.0 will be ignored. Current value: lambda_l2=2.7222837773047282e-08\n",
      "[LightGBM] [Warning] bagging_fraction is set=0.9735502443957263, subsample=1.0 will be ignored. Current value: bagging_fraction=0.9735502443957263\n",
      "[LightGBM] [Warning] lambda_l1 is set=3.035082410337794e-05, reg_alpha=0.0 will be ignored. Current value: lambda_l1=3.035082410337794e-05\n",
      "[LightGBM] [Warning] feature_fraction is set=0.7532144343509061, colsample_bytree=1.0 will be ignored. Current value: feature_fraction=0.7532144343509061\n",
      "[LightGBM] [Warning] bagging_freq is set=3, subsample_freq=0 will be ignored. Current value: bagging_freq=3\n",
      "[LightGBM] [Warning] lambda_l2 is set=2.7222837773047282e-08, reg_lambda=0.0 will be ignored. Current value: lambda_l2=2.7222837773047282e-08\n",
      "[LightGBM] [Warning] bagging_fraction is set=0.9735502443957263, subsample=1.0 will be ignored. Current value: bagging_fraction=0.9735502443957263\n",
      "[LightGBM] [Warning] lambda_l1 is set=3.035082410337794e-05, reg_alpha=0.0 will be ignored. Current value: lambda_l1=3.035082410337794e-05\n",
      "[LightGBM] [Warning] feature_fraction is set=0.7532144343509061, colsample_bytree=1.0 will be ignored. Current value: feature_fraction=0.7532144343509061\n",
      "[LightGBM] [Warning] bagging_freq is set=3, subsample_freq=0 will be ignored. Current value: bagging_freq=3\n",
      "[LightGBM] [Warning] lambda_l2 is set=2.7222837773047282e-08, reg_lambda=0.0 will be ignored. Current value: lambda_l2=2.7222837773047282e-08\n",
      "[LightGBM] [Warning] bagging_fraction is set=0.9735502443957263, subsample=1.0 will be ignored. Current value: bagging_fraction=0.9735502443957263\n",
      "[LightGBM] [Warning] lambda_l1 is set=3.035082410337794e-05, reg_alpha=0.0 will be ignored. Current value: lambda_l1=3.035082410337794e-05\n",
      "[LightGBM] [Warning] feature_fraction is set=0.7532144343509061, colsample_bytree=1.0 will be ignored. Current value: feature_fraction=0.7532144343509061\n",
      "[LightGBM] [Warning] bagging_freq is set=3, subsample_freq=0 will be ignored. Current value: bagging_freq=3\n",
      "[LightGBM] [Warning] lambda_l2 is set=2.7222837773047282e-08, reg_lambda=0.0 will be ignored. Current value: lambda_l2=2.7222837773047282e-08\n",
      "[LightGBM] [Warning] bagging_fraction is set=0.9735502443957263, subsample=1.0 will be ignored. Current value: bagging_fraction=0.9735502443957263\n",
      "[LightGBM] [Warning] lambda_l1 is set=3.035082410337794e-05, reg_alpha=0.0 will be ignored. Current value: lambda_l1=3.035082410337794e-05\n",
      "[LightGBM] [Warning] feature_fraction is set=0.7532144343509061, colsample_bytree=1.0 will be ignored. Current value: feature_fraction=0.7532144343509061\n",
      "[LightGBM] [Warning] bagging_freq is set=3, subsample_freq=0 will be ignored. Current value: bagging_freq=3\n",
      "[LightGBM] [Warning] lambda_l2 is set=2.7222837773047282e-08, reg_lambda=0.0 will be ignored. Current value: lambda_l2=2.7222837773047282e-08\n",
      "[LightGBM] [Warning] bagging_fraction is set=0.9735502443957263, subsample=1.0 will be ignored. Current value: bagging_fraction=0.9735502443957263\n",
      "[LightGBM] [Warning] lambda_l1 is set=3.035082410337794e-05, reg_alpha=0.0 will be ignored. Current value: lambda_l1=3.035082410337794e-05\n",
      "[LightGBM] [Warning] feature_fraction is set=0.7532144343509061, colsample_bytree=1.0 will be ignored. Current value: feature_fraction=0.7532144343509061\n",
      "[LightGBM] [Warning] bagging_freq is set=3, subsample_freq=0 will be ignored. Current value: bagging_freq=3\n",
      "[LightGBM] [Warning] lambda_l2 is set=2.7222837773047282e-08, reg_lambda=0.0 will be ignored. Current value: lambda_l2=2.7222837773047282e-08\n",
      "[LightGBM] [Warning] bagging_fraction is set=0.9735502443957263, subsample=1.0 will be ignored. Current value: bagging_fraction=0.9735502443957263\n",
      "[LightGBM] [Warning] lambda_l1 is set=3.035082410337794e-05, reg_alpha=0.0 will be ignored. Current value: lambda_l1=3.035082410337794e-05\n",
      "[LightGBM] [Warning] feature_fraction is set=0.7532144343509061, colsample_bytree=1.0 will be ignored. Current value: feature_fraction=0.7532144343509061\n",
      "[LightGBM] [Warning] bagging_freq is set=3, subsample_freq=0 will be ignored. Current value: bagging_freq=3\n",
      "[LightGBM] [Warning] lambda_l2 is set=2.7222837773047282e-08, reg_lambda=0.0 will be ignored. Current value: lambda_l2=2.7222837773047282e-08\n",
      "[LightGBM] [Warning] bagging_fraction is set=0.9735502443957263, subsample=1.0 will be ignored. Current value: bagging_fraction=0.9735502443957263\n",
      "[LightGBM] [Warning] lambda_l1 is set=3.035082410337794e-05, reg_alpha=0.0 will be ignored. Current value: lambda_l1=3.035082410337794e-05\n",
      "[LightGBM] [Warning] feature_fraction is set=0.7532144343509061, colsample_bytree=1.0 will be ignored. Current value: feature_fraction=0.7532144343509061\n",
      "[LightGBM] [Warning] bagging_freq is set=3, subsample_freq=0 will be ignored. Current value: bagging_freq=3\n",
      "[LightGBM] [Warning] lambda_l2 is set=2.7222837773047282e-08, reg_lambda=0.0 will be ignored. Current value: lambda_l2=2.7222837773047282e-08\n",
      "[LightGBM] [Warning] bagging_fraction is set=0.9735502443957263, subsample=1.0 will be ignored. Current value: bagging_fraction=0.9735502443957263\n",
      "[LightGBM] [Warning] lambda_l1 is set=3.035082410337794e-05, reg_alpha=0.0 will be ignored. Current value: lambda_l1=3.035082410337794e-05\n",
      "[LightGBM] [Warning] feature_fraction is set=0.7532144343509061, colsample_bytree=1.0 will be ignored. Current value: feature_fraction=0.7532144343509061\n",
      "[LightGBM] [Warning] bagging_freq is set=3, subsample_freq=0 will be ignored. Current value: bagging_freq=3\n",
      "[LightGBM] [Warning] lambda_l2 is set=2.7222837773047282e-08, reg_lambda=0.0 will be ignored. Current value: lambda_l2=2.7222837773047282e-08\n",
      "[LightGBM] [Warning] bagging_fraction is set=0.9735502443957263, subsample=1.0 will be ignored. Current value: bagging_fraction=0.9735502443957263\n"
     ]
    },
    {
     "data": {
      "text/plain": [
       "0.25045640208470465"
      ]
     },
     "execution_count": 8,
     "metadata": {},
     "output_type": "execute_result"
    }
   ],
   "source": [
    "# LGB Optimized\n",
    "\n",
    "\"\"\"\n",
    "0.24475231717752646 Default (No imputation)\n",
    "0.24499656814827206 Exposition\n",
    "0.24540434465290145 Floor\n",
    "\n",
    "\"\"\"\n",
    "baseline_model=LGBMRegressor(**lgb_params)\n",
    "baseline_model.fit(X_train_1, Y_train_1)\n",
    "kf = KFold(n_splits=10)\n",
    "baseline_result = cross_val_score(baseline_model, X_train_1, Y_train_1, scoring=\"neg_mean_absolute_error\", cv=kf)\n",
    "mean_baseline_result = -np.mean(baseline_result)\n",
    "mean_baseline_result"
   ]
  },
  {
   "cell_type": "markdown",
   "metadata": {},
   "source": [
    "## Inference\n"
   ]
  },
  {
   "cell_type": "code",
   "execution_count": 9,
   "metadata": {
    "scrolled": true
   },
   "outputs": [
    {
     "name": "stdout",
     "output_type": "stream",
     "text": [
      "Finished Training xgboost.\n",
      "[LightGBM] [Warning] lambda_l1 is set=3.035082410337794e-05, reg_alpha=0.0 will be ignored. Current value: lambda_l1=3.035082410337794e-05\n",
      "[LightGBM] [Warning] feature_fraction is set=0.7532144343509061, colsample_bytree=1.0 will be ignored. Current value: feature_fraction=0.7532144343509061\n",
      "[LightGBM] [Warning] bagging_freq is set=3, subsample_freq=0 will be ignored. Current value: bagging_freq=3\n",
      "[LightGBM] [Warning] lambda_l2 is set=2.7222837773047282e-08, reg_lambda=0.0 will be ignored. Current value: lambda_l2=2.7222837773047282e-08\n",
      "[LightGBM] [Warning] bagging_fraction is set=0.9735502443957263, subsample=1.0 will be ignored. Current value: bagging_fraction=0.9735502443957263\n",
      "Finished Training lgb.\n",
      "Finished Training cat.\n"
     ]
    }
   ],
   "source": [
    "tuned_models = {\n",
    "    \"xgboost\":XGBRegressor(**xgb_params),\n",
    "    \"lgb\":LGBMRegressor(**lgb_params),\n",
    "    \"cat\":CatBoostRegressor(**cat_params, verbose=False),\n",
    "}\n",
    "\n",
    "for model_name, model in tuned_models.items():\n",
    "    model.fit(X_train_1, Y_train_1)\n",
    "    print(f\"Finished Training {model_name}.\")\n"
   ]
  },
  {
   "cell_type": "code",
   "execution_count": 10,
   "metadata": {},
   "outputs": [
    {
     "name": "stdout",
     "output_type": "stream",
     "text": [
      "Finished submitting\n"
     ]
    }
   ],
   "source": [
    "weights = [4/40,14/40,20/40]\n",
    "\n",
    "final_predictions_sum= (\n",
    "    weights[0]*np.exp(tuned_models[\"xgboost\"].predict(X_test_1)) +\n",
    "    weights[1]*np.exp(tuned_models[\"lgb\"].predict(X_test_1)) + \n",
    "    weights[2]*np.exp(tuned_models[\"cat\"].predict(X_test_1)) \n",
    "    )\n",
    "\n",
    "final_predictions=pd.Series(final_predictions_sum,name=\"price\")\n",
    "final_predictions.head()\n",
    "final_submission = pd.concat([X_test_ids, final_predictions], axis=1)\n",
    "final_submission.to_csv(\"data/final_submission_146.csv\", index=False, header=True)\n",
    "print(\"Finished submitting\")\n"
   ]
  }
 ],
 "metadata": {
  "kernelspec": {
   "display_name": "Python 3 (ipykernel)",
   "language": "python",
   "name": "python3"
  },
  "language_info": {
   "codemirror_mode": {
    "name": "ipython",
    "version": 3
   },
   "file_extension": ".py",
   "mimetype": "text/x-python",
   "name": "python",
   "nbconvert_exporter": "python",
   "pygments_lexer": "ipython3",
   "version": "3.9.6"
  },
  "vscode": {
   "interpreter": {
    "hash": "7cad879572fc86dfe65b3e43b153c561e79ca25c5ffe8434d36e9a73cfcff219"
   }
  }
 },
 "nbformat": 4,
 "nbformat_minor": 2
}
